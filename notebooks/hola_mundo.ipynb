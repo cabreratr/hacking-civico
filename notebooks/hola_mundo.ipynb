{
  "nbformat": 4,
  "nbformat_minor": 0,
  "metadata": {
    "colab": {
      "name": "hola mundo.ipynb",
      "provenance": [],
      "include_colab_link": true
    },
    "kernelspec": {
      "name": "python3",
      "display_name": "Python 3"
    }
  },
  "cells": [
    {
      "cell_type": "markdown",
      "metadata": {
        "id": "view-in-github",
        "colab_type": "text"
      },
      "source": [
        "<a href=\"https://colab.research.google.com/github/cabreratr/hacking-civico/blob/master/notebooks/hola_mundo.ipynb\" target=\"_parent\"><img src=\"https://colab.research.google.com/assets/colab-badge.svg\" alt=\"Open In Colab\"/></a>"
      ]
    },
    {
      "cell_type": "markdown",
      "metadata": {
        "id": "MN_-adPfCJDy",
        "colab_type": "text"
      },
      "source": [
        "## Prueba de Colab\n",
        "Notebook de prueba, primera interacción con esta herramienta."
      ]
    },
    {
      "cell_type": "code",
      "metadata": {
        "id": "df48sTV7iAcn",
        "colab_type": "code",
        "colab": {
          "base_uri": "https://localhost:8080/",
          "height": 136
        },
        "outputId": "85edb4e1-29ea-498c-fc06-73389d5288fd"
      },
      "source": [
        "a=10\n",
        "b=8\n",
        "c= a-b\n",
        "print('hola la cantidad es:', c<0)\n",
        "\n",
        "for i in range(4):\n",
        "  print(f'el numero es: {i}')\n",
        "\n",
        "nombre = input('Tu nombre: ')\n",
        "print(f'Hola amigo {nombre}')"
      ],
      "execution_count": 4,
      "outputs": [
        {
          "output_type": "stream",
          "text": [
            "hola la cantidad es: False\n",
            "el numero es: 0\n",
            "el numero es: 1\n",
            "el numero es: 2\n",
            "el numero es: 3\n",
            "Tu nombre: Juan\n",
            "Hola amigo Juan\n"
          ],
          "name": "stdout"
        }
      ]
    }
  ]
}