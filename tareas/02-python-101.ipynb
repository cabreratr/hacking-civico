{
  "nbformat": 4,
  "nbformat_minor": 0,
  "metadata": {
    "colab": {
      "name": "02-python-101.ipynb.ipynb",
      "provenance": [],
      "collapsed_sections": [],
      "authorship_tag": "ABX9TyNCPeZVsWkT6NTihaNRhvwl",
      "include_colab_link": true
    },
    "kernelspec": {
      "name": "python3",
      "display_name": "Python 3"
    }
  },
  "cells": [
    {
      "cell_type": "markdown",
      "metadata": {
        "id": "view-in-github",
        "colab_type": "text"
      },
      "source": [
        "<a href=\"https://colab.research.google.com/github/cabreratr/hacking-civico/blob/master/tareas/02-python-101.ipynb\" target=\"_parent\"><img src=\"https://colab.research.google.com/assets/colab-badge.svg\" alt=\"Open In Colab\"/></a>"
      ]
    },
    {
      "cell_type": "code",
      "metadata": {
        "id": "vkTB6G1w1OBI",
        "colab_type": "code",
        "colab": {
          "base_uri": "https://localhost:8080/",
          "height": 68
        },
        "outputId": "4165c210-e363-4123-c13a-d1d8e02798ea"
      },
      "source": [
        "def densidad_poblacional(poblacion, area_ciudad):\n",
        "  return (poblacion / area_ciudad)\n",
        "#Ciudad Villaflores: 98,618 superficie: 1,232 \n",
        "densidad_cd = densidad_poblacional(98618, 1232)\n",
        "#Estado Chiapas poblacion: 5,228,711, superficie: 73,211\n",
        "densidad_edo = densidad_poblacional(5228711, 73211)\n",
        "#País poblacion: 119,938,473 superficie: 1,964,375 \n",
        "densidad_pais = densidad_poblacional(119938473, 1964375)\n",
        "\n",
        "print(f'Densidad poblaiconal del la ciudad: {round(densidad_cd, 2)} hab/km²')\n",
        "print(f'Densidad poblaiconal del estado: {round(densidad_edo, 2)} hab/km²')\n",
        "print(f'Densidad poblaiconal del país: {round(densidad_pais, 2)} hab/km²')"
      ],
      "execution_count": null,
      "outputs": [
        {
          "output_type": "stream",
          "text": [
            "Densidad poblaiconal del la ciudad: 80.05 hab/km²\n",
            "Densidad poblaiconal del estado: 71.42 hab/km²\n",
            "Densidad poblaiconal del país: 61.06 hab/km²\n"
          ],
          "name": "stdout"
        }
      ]
    },
    {
      "cell_type": "code",
      "metadata": {
        "id": "qv-YItWTY3O2",
        "colab_type": "code",
        "colab": {
          "base_uri": "https://localhost:8080/",
          "height": 51
        },
        "outputId": "d6223918-e05b-4056-9561-47ac1177e91d"
      },
      "source": [
        "#GASTO PER CAPITA\n",
        "\n",
        "def per_capita(cantidad, poblacion):\n",
        "  return (cantidad/poblacion)\n",
        "\n",
        "cantidad2019 = 12894090259\n",
        "cantidad2020 = 13517480531\n",
        "poblacion = 119938473\n",
        "capita2019 = per_capita(cantidad2019, poblacion)\n",
        "capita2020 = per_capita(cantidad2020, poblacion)\n",
        "print(f'El gasto per capita 2019 es: ${round(capita2019,2)}' )\n",
        "print(f'El gasto per capita 2020 es: ${round(capita2020,2)}' )\n"
      ],
      "execution_count": 4,
      "outputs": [
        {
          "output_type": "stream",
          "text": [
            "El gasto per capita 2019 es: $107.51\n",
            "El gasto per capita 2020 es: $112.7\n"
          ],
          "name": "stdout"
        }
      ]
    },
    {
      "cell_type": "code",
      "metadata": {
        "id": "SNgtEsjWahBT",
        "colab_type": "code",
        "colab": {
          "base_uri": "https://localhost:8080/",
          "height": 34
        },
        "outputId": "b8c3400c-ed89-453e-9936-f841214388ec"
      },
      "source": [
        "#indice\n",
        "def indice(anterior, actual):\n",
        "  return (actual/anterior)\n",
        "\n",
        "cantidad2019 = 12894090259\n",
        "cantidad2020 = 13517480531\n",
        "indicador = indice(cantidad2019, cantidad2020)\n",
        "print(f'Indice del gasto 2020 resapecto al 2019: {round(indicador,2)}')\n",
        "\n",
        "#aumento un 5%"
      ],
      "execution_count": 6,
      "outputs": [
        {
          "output_type": "stream",
          "text": [
            "Indice del gasto 2020 resapecto al 2019: 1.05\n"
          ],
          "name": "stdout"
        }
      ]
    }
  ]
}