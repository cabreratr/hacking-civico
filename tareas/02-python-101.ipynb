{
  "nbformat": 4,
  "nbformat_minor": 0,
  "metadata": {
    "colab": {
      "name": "Untitled0.ipynb",
      "provenance": [],
      "authorship_tag": "ABX9TyM4ZhPUEab7L1chAFhwUQQl",
      "include_colab_link": true
    },
    "kernelspec": {
      "name": "python3",
      "display_name": "Python 3"
    }
  },
  "cells": [
    {
      "cell_type": "markdown",
      "metadata": {
        "id": "view-in-github",
        "colab_type": "text"
      },
      "source": [
        "<a href=\"https://colab.research.google.com/github/cabreratr/hacking-civico/blob/master/tareas/02-python-101.ipynb\" target=\"_parent\"><img src=\"https://colab.research.google.com/assets/colab-badge.svg\" alt=\"Open In Colab\"/></a>"
      ]
    },
    {
      "cell_type": "code",
      "metadata": {
        "id": "vkTB6G1w1OBI",
        "colab_type": "code",
        "colab": {
          "base_uri": "https://localhost:8080/",
          "height": 68
        },
        "outputId": "4165c210-e363-4123-c13a-d1d8e02798ea"
      },
      "source": [
        "def densidad_poblacional(poblacion, area_ciudad):\n",
        "  return (poblacion / area_ciudad)\n",
        "#Ciudad Villaflores: 98,618 superficie: 1,232 \n",
        "densidad_cd = densidad_poblacional(98618, 1232)\n",
        "#Estado Chiapas poblacion: 5,228,711, superficie: 73,211\n",
        "densidad_edo = densidad_poblacional(5228711, 73211)\n",
        "#País poblacion: 119,938,473 superficie: 1,964,375 \n",
        "densidad_pais = densidad_poblacional(119938473, 1964375)\n",
        "\n",
        "print(f'Densidad poblaiconal del la ciudad: {round(densidad_cd, 2)} hab/km²')\n",
        "print(f'Densidad poblaiconal del estado: {round(densidad_edo, 2)} hab/km²')\n",
        "print(f'Densidad poblaiconal del país: {round(densidad_pais, 2)} hab/km²')"
      ],
      "execution_count": 9,
      "outputs": [
        {
          "output_type": "stream",
          "text": [
            "Densidad poblaiconal del la ciudad: 80.05 hab/km²\n",
            "Densidad poblaiconal del estado: 71.42 hab/km²\n",
            "Densidad poblaiconal del país: 61.06 hab/km²\n"
          ],
          "name": "stdout"
        }
      ]
    }
  ]
}